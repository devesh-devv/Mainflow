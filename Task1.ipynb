{
 "cells": [
  {
   "cell_type": "code",
   "execution_count": 2,
   "id": "838516ed-2726-4d42-9d3c-7ca87c0ca7ba",
   "metadata": {},
   "outputs": [
    {
     "name": "stdout",
     "output_type": "stream",
     "text": [
      "List after adding an element: [1, 2, 3, 4, 5]\n",
      "List after removing an element: [1, 3, 4, 5]\n",
      "List after modifying an element: [10, 3, 4, 5]\n",
      "\n",
      "Dictionary after adding an element: {'a': 1, 'b': 2, 'c': 3, 'd': 4}\n",
      "Dictionary after removing an element: {'a': 1, 'c': 3, 'd': 4}\n",
      "Dictionary after modifying an element: {'a': 10, 'c': 3, 'd': 4}\n",
      "\n",
      "Set after adding an element: {1, 2, 3, 4}\n",
      "Set after removing an element: {1, 3, 4}\n",
      "Set after modifying elements: {3, 4, 5}\n"
     ]
    }
   ],
   "source": [
    "# Creating a list, a dictionary, and a set\n",
    "my_list = [1, 2, 3, 4]\n",
    "my_dict = {'a': 1, 'b': 2, 'c': 3}\n",
    "my_set = {1, 2, 3}\n",
    "\n",
    "# Adding an element to the list\n",
    "my_list.append(5)\n",
    "print(\"List after adding an element:\", my_list)\n",
    "\n",
    "# Removing an element from the list\n",
    "my_list.remove(2)\n",
    "print(\"List after removing an element:\", my_list)\n",
    "\n",
    "# Modifying an element in the list\n",
    "my_list[0] = 10\n",
    "print(\"List after modifying an element:\", my_list)\n",
    "\n",
    "# Dictionary Operations\n",
    "my_dict['d'] = 4\n",
    "print(\"\\nDictionary after adding an element:\", my_dict)\n",
    "\n",
    "# Removing a key-value pair from the dictionary\n",
    "del my_dict['b']\n",
    "print(\"Dictionary after removing an element:\", my_dict)\n",
    "\n",
    "# Modifying a value in the dictionary\n",
    "my_dict['a'] = 10\n",
    "print(\"Dictionary after modifying an element:\", my_dict)\n",
    "\n",
    "# Set Operations\n",
    "my_set.add(4)\n",
    "print(\"\\nSet after adding an element:\", my_set)\n",
    "\n",
    "my_set.remove(2)\n",
    "print(\"Set after removing an element:\", my_set)\n",
    "\n",
    "my_set.remove(1)\n",
    "my_set.add(5)\n",
    "print(\"Set after modifying elements:\", my_set)\n"
   ]
  },
  {
   "cell_type": "code",
   "execution_count": null,
   "id": "aaa07656-4413-4d8b-87de-545e2a682ff7",
   "metadata": {},
   "outputs": [],
   "source": []
  }
 ],
 "metadata": {
  "kernelspec": {
   "display_name": "Python 3 (ipykernel)",
   "language": "python",
   "name": "python3"
  },
  "language_info": {
   "codemirror_mode": {
    "name": "ipython",
    "version": 3
   },
   "file_extension": ".py",
   "mimetype": "text/x-python",
   "name": "python",
   "nbconvert_exporter": "python",
   "pygments_lexer": "ipython3",
   "version": "3.12.1"
  }
 },
 "nbformat": 4,
 "nbformat_minor": 5
}
